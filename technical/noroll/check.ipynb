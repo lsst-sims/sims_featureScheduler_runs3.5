{
 "cells": [
  {
   "cell_type": "code",
   "execution_count": 1,
   "id": "1fcd71d0-7155-463b-ae7e-88e3579115df",
   "metadata": {},
   "outputs": [],
   "source": [
    "import sqlite3\n",
    "import pandas as pd\n",
    "import numpy as np\n"
   ]
  },
  {
   "cell_type": "code",
   "execution_count": 2,
   "id": "c91fc6e8-a9ef-42ef-8cf9-f37aa9daee37",
   "metadata": {},
   "outputs": [],
   "source": [
    "con = sqlite3.connect('noroll_v3.5_2yrs.db')\n",
    "no_roll = pd.read_sql('select fieldRA,fieldDec,night from observations;', con)\n",
    "con.close()"
   ]
  },
  {
   "cell_type": "code",
   "execution_count": 3,
   "id": "23daa474-5ece-4a62-adca-f4e3d53fcf9c",
   "metadata": {},
   "outputs": [],
   "source": [
    "con = sqlite3.connect('baseline_v3.5_2yrs.db')\n",
    "baseline = pd.read_sql('select fieldRA,fieldDec,night from observations;', con)\n",
    "con.close()"
   ]
  },
  {
   "cell_type": "code",
   "execution_count": 4,
   "id": "9cdf48a0-456b-4ca3-acc4-828db75ea632",
   "metadata": {},
   "outputs": [],
   "source": [
    "con = sqlite3.connect('four_cycle_v3.5_2yrs.db')\n",
    "four = pd.read_sql('select fieldRA,fieldDec,night from observations;', con)\n",
    "con.close()"
   ]
  },
  {
   "cell_type": "code",
   "execution_count": 5,
   "id": "3b506baa-875e-4e7e-8c42-2903605ce29b",
   "metadata": {},
   "outputs": [
    {
     "data": {
      "text/plain": [
       "0         200.782211\n",
       "1         205.280457\n",
       "2         208.768832\n",
       "3         212.491654\n",
       "4         209.531249\n",
       "             ...    \n",
       "462939    148.105306\n",
       "462940    150.476965\n",
       "462941    152.838116\n",
       "462942    155.202097\n",
       "462943    157.586821\n",
       "Name: fieldRA, Length: 462944, dtype: float64"
      ]
     },
     "execution_count": 5,
     "metadata": {},
     "output_type": "execute_result"
    }
   ],
   "source": [
    "no_roll['fieldRA']"
   ]
  },
  {
   "cell_type": "code",
   "execution_count": 6,
   "id": "773a54b5-be37-4ca3-a39a-1a0d60b9c927",
   "metadata": {},
   "outputs": [
    {
     "data": {
      "text/plain": [
       "0         200.782211\n",
       "1         205.280457\n",
       "2         208.768832\n",
       "3         212.491654\n",
       "4         209.531249\n",
       "             ...    \n",
       "462763    155.202097\n",
       "462764    155.524410\n",
       "462765    158.193299\n",
       "462766    160.191096\n",
       "462767    162.584715\n",
       "Name: fieldRA, Length: 462768, dtype: float64"
      ]
     },
     "execution_count": 6,
     "metadata": {},
     "output_type": "execute_result"
    }
   ],
   "source": [
    "baseline['fieldRA']"
   ]
  },
  {
   "cell_type": "code",
   "execution_count": 7,
   "id": "c555735b-8ee0-4df6-962d-7e4284b7fdc9",
   "metadata": {},
   "outputs": [],
   "source": [
    "diff = no_roll['fieldRA'] - baseline['fieldRA']"
   ]
  },
  {
   "cell_type": "code",
   "execution_count": 8,
   "id": "589ec861-97da-4f6b-b79c-35d6553959bb",
   "metadata": {},
   "outputs": [
    {
     "data": {
      "text/plain": [
       "(array([245147, 245149, 245150, ..., 462765, 462766, 462767]),)"
      ]
     },
     "execution_count": 8,
     "metadata": {},
     "output_type": "execute_result"
    }
   ],
   "source": [
    "np.where(np.abs(diff) > 0.1)"
   ]
  },
  {
   "cell_type": "code",
   "execution_count": 9,
   "id": "9a17ed12-8d9d-4fcd-9da6-9be71ab8a757",
   "metadata": {},
   "outputs": [
    {
     "data": {
      "text/plain": [
       "array([374, 374, 374, ..., 730, 730, 730])"
      ]
     },
     "execution_count": 9,
     "metadata": {},
     "output_type": "execute_result"
    }
   ],
   "source": [
    "baseline[\"night\"].values[np.where(np.abs(diff) > 0.1)]"
   ]
  },
  {
   "cell_type": "code",
   "execution_count": 10,
   "id": "2164f18c-e83f-4785-a8cd-1b38dbc76710",
   "metadata": {},
   "outputs": [],
   "source": [
    "diff = four['fieldRA'] - baseline['fieldRA']"
   ]
  },
  {
   "cell_type": "code",
   "execution_count": 11,
   "id": "9c1fbec9-01b3-4ef2-a933-7f2deeb26853",
   "metadata": {},
   "outputs": [
    {
     "data": {
      "text/plain": [
       "(array([122087, 122088, 122089, ..., 462608, 462609, 462610]),)"
      ]
     },
     "execution_count": 11,
     "metadata": {},
     "output_type": "execute_result"
    }
   ],
   "source": [
    "np.where(np.abs(diff) > 0.1)"
   ]
  },
  {
   "cell_type": "code",
   "execution_count": 12,
   "id": "666b772f-b38b-458e-8b4b-db6c9b7006b7",
   "metadata": {},
   "outputs": [
    {
     "data": {
      "text/plain": [
       "array([199, 199, 199, ..., 729, 729, 729])"
      ]
     },
     "execution_count": 12,
     "metadata": {},
     "output_type": "execute_result"
    }
   ],
   "source": [
    "baseline[\"night\"].values[np.where(np.abs(diff) > 0.1)]"
   ]
  },
  {
   "cell_type": "code",
   "execution_count": null,
   "id": "ff466827-ec11-41ab-ad32-8250f52abb2c",
   "metadata": {},
   "outputs": [],
   "source": []
  }
 ],
 "metadata": {
  "kernelspec": {
   "display_name": "Python 3 (ipykernel)",
   "language": "python",
   "name": "python3"
  },
  "language_info": {
   "codemirror_mode": {
    "name": "ipython",
    "version": 3
   },
   "file_extension": ".py",
   "mimetype": "text/x-python",
   "name": "python",
   "nbconvert_exporter": "python",
   "pygments_lexer": "ipython3",
   "version": "3.11.8"
  }
 },
 "nbformat": 4,
 "nbformat_minor": 5
}
