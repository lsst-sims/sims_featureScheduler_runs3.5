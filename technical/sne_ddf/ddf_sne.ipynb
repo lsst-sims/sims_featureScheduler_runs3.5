{
 "cells": [
  {
   "cell_type": "code",
   "execution_count": 1,
   "id": "1b7c5bc3-b946-4982-83d3-eccbb61f0a47",
   "metadata": {},
   "outputs": [],
   "source": [
    "import rubin_sim.maf as maf\n",
    "import numpy as np\n",
    "\n",
    "from rubin_scheduler.utils import (\n",
    "    angular_separation,\n",
    "    ddf_locations,\n",
    "    ddf_locations_pre3_5,\n",
    "    hpid2_ra_dec,\n",
    "    sample_patch_on_sphere,\n",
    ")\n",
    "import healpy as hp\n",
    "radius=2.5"
   ]
  },
  {
   "cell_type": "code",
   "execution_count": 2,
   "id": "1b466cb1-a167-4183-a5eb-901c518373f4",
   "metadata": {},
   "outputs": [],
   "source": [
    "out_dir = 'temp'\n",
    "results_db = maf.db.ResultsDb(out_dir=out_dir)\n"
   ]
  },
  {
   "cell_type": "code",
   "execution_count": 3,
   "id": "bf3ad8a4-3396-487e-b34c-12da4d58bfb4",
   "metadata": {},
   "outputs": [
    {
     "name": "stdout",
     "output_type": "stream",
     "text": [
      "Healpix slicer using NSIDE=128, approximate resolution 27.483891 arcminutes\n",
      "Healpix slicer using NSIDE=512, approximate resolution 6.870973 arcminutes\n",
      "Healpix slicer using NSIDE=128, approximate resolution 27.483891 arcminutes\n",
      "Healpix slicer using NSIDE=512, approximate resolution 6.870973 arcminutes\n",
      "Healpix slicer using NSIDE=128, approximate resolution 27.483891 arcminutes\n",
      "Healpix slicer using NSIDE=512, approximate resolution 6.870973 arcminutes\n",
      "Healpix slicer using NSIDE=128, approximate resolution 27.483891 arcminutes\n",
      "Healpix slicer using NSIDE=512, approximate resolution 6.870973 arcminutes\n",
      "Healpix slicer using NSIDE=128, approximate resolution 27.483891 arcminutes\n",
      "Healpix slicer using NSIDE=512, approximate resolution 6.870973 arcminutes\n"
     ]
    }
   ],
   "source": [
    "ddfs = {}\n",
    "nside=512\n",
    "nside_sne=128\n",
    "\n",
    "ddfs_rough = ddf_locations()\n",
    "for ddf in ddfs_rough:\n",
    "    ddfs[ddf] = {\"ra\": ddfs_rough[ddf][0], \"dec\": ddfs_rough[ddf][1]}\n",
    "# Combine the Euclid double-field into one - but with two ra/dec values\n",
    "ddfs[\"EDFS\"] = {\n",
    "    \"ra\": [ddfs[\"EDFS_a\"][\"ra\"], ddfs[\"EDFS_b\"][\"ra\"]],\n",
    "    \"dec\": [ddfs[\"EDFS_a\"][\"dec\"], ddfs[\"EDFS_b\"][\"dec\"]],\n",
    "}\n",
    "del ddfs[\"EDFS_a\"]\n",
    "del ddfs[\"EDFS_b\"]\n",
    "# Let's include an arbitrary point that should be in the WFD for comparison\n",
    "ddfs[\"WFD\"] = {\"ra\": 0, \"dec\": -20.0}\n",
    "\n",
    "ra, dec = hpid2_ra_dec(nside, np.arange(hp.nside2npix(nside)))\n",
    "ra_sne, dec_sne = hpid2_ra_dec(nside_sne, np.arange(hp.nside2npix(nside_sne)))\n",
    "\n",
    "ddf_slicers = {}\n",
    "ddf_slicers_sne = {}\n",
    "for ddf in ddfs:\n",
    "    # Define the healpixels to use for this DDF\n",
    "    if np.size(ddfs[ddf][\"ra\"]) > 1:\n",
    "        goods = []\n",
    "        goods_sne = []\n",
    "        for ddf_ra, ddf_dec in zip(ddfs[ddf][\"ra\"], ddfs[ddf][\"dec\"]):\n",
    "            dist = angular_separation(ra, dec, ddf_ra, ddf_dec)\n",
    "            goods.append(np.where(dist <= radius)[0])\n",
    "            dist = angular_separation(ra_sne, dec_sne, ddf_ra, ddf_dec)\n",
    "            goods_sne.append(np.where(dist <= radius)[0])\n",
    "        good = np.unique(np.concatenate(goods))\n",
    "        good_sne = np.unique(np.concatenate(goods_sne))\n",
    "    else:\n",
    "        dist = angular_separation(ra, dec, np.mean(ddfs[ddf][\"ra\"]), np.mean(ddfs[ddf][\"dec\"]))\n",
    "        good = np.where(dist <= radius)[0]\n",
    "        dist = angular_separation(ra_sne, dec_sne, np.mean(ddfs[ddf][\"ra\"]), np.mean(ddfs[ddf][\"dec\"]))\n",
    "        good_sne = np.where(dist <= radius)[0]\n",
    "        ddf_slicers_sne[ddf] = maf.HealpixSubsetSlicer(nside_sne, good_sne, use_cache=False)\n",
    "        ddf_slicers[ddf] = maf.HealpixSubsetSlicer(nside, good, use_cache=False)"
   ]
  },
  {
   "cell_type": "code",
   "execution_count": 4,
   "id": "6dea650f-7c3a-4a8f-baef-a2d1e35ef63a",
   "metadata": {},
   "outputs": [
    {
     "data": {
      "text/plain": [
       "{'ELAISS1': {'ra': 9.45, 'dec': -44.025},\n",
       " 'XMM_LSS': {'ra': 35.574999999999996, 'dec': -4.816666666666666},\n",
       " 'ECDFS': {'ra': 52.979166666666664, 'dec': -28.116666666666667},\n",
       " 'COSMOS': {'ra': 150.1083333333333, 'dec': 2.233611111111111},\n",
       " 'EDFS': {'ra': [58.9, 63.6], 'dec': [-49.32, -47.6]},\n",
       " 'WFD': {'ra': 0, 'dec': -20.0}}"
      ]
     },
     "execution_count": 4,
     "metadata": {},
     "output_type": "execute_result"
    }
   ],
   "source": [
    "ddfs"
   ]
  },
  {
   "cell_type": "code",
   "execution_count": 5,
   "id": "2f471e9c-2a85-4378-aa45-4e2065e55002",
   "metadata": {},
   "outputs": [
    {
     "name": "stdout",
     "output_type": "stream",
     "text": [
      "Loading  /Users/yoachim/rubin_sim_data/maf/SNe_data/LC_-2.0_0.2_380.0_800.0_ebvofMW_0.0_vstack.hdf5 g 20774 799 26\n"
     ]
    },
    {
     "name": "stderr",
     "output_type": "stream",
     "text": [
      "/Users/yoachim/anaconda3/envs/rubin/lib/python3.11/site-packages/numpy/core/fromnumeric.py:771: UserWarning: Warning: 'partition' will ignore the 'mask' of the MaskedArray.\n",
      "  a.partition(kth, axis=axis, kind=kind, order=order)\n"
     ]
    },
    {
     "name": "stdout",
     "output_type": "stream",
     "text": [
      "Loading  /Users/yoachim/rubin_sim_data/maf/SNe_data/LC_-2.0_0.2_380.0_800.0_ebvofMW_0.0_vstack.hdf5 i 78302 799 98\n",
      "Loading  /Users/yoachim/rubin_sim_data/maf/SNe_data/LC_-2.0_0.2_380.0_800.0_ebvofMW_0.0_vstack.hdf5 r 50337 799 63\n",
      "Loading  /Users/yoachim/rubin_sim_data/maf/SNe_data/LC_-2.0_0.2_380.0_800.0_ebvofMW_0.0_vstack.hdf5 y 63121 799 79\n",
      "Loading  /Users/yoachim/rubin_sim_data/maf/SNe_data/LC_-2.0_0.2_380.0_800.0_ebvofMW_0.0_vstack.hdf5 z 73508 799 92\n",
      "Loading  /Users/yoachim/rubin_sim_data/maf/SNe_data/LC_0.0_0.0_380.0_800.0_ebvofMW_0.0_vstack.hdf5 g 20774 799 26\n",
      "Loading  /Users/yoachim/rubin_sim_data/maf/SNe_data/LC_0.0_0.0_380.0_800.0_ebvofMW_0.0_vstack.hdf5 i 78302 799 98\n"
     ]
    },
    {
     "name": "stderr",
     "output_type": "stream",
     "text": [
      "/Users/yoachim/anaconda3/envs/rubin/lib/python3.11/site-packages/numpy/core/fromnumeric.py:771: UserWarning: Warning: 'partition' will ignore the 'mask' of the MaskedArray.\n",
      "  a.partition(kth, axis=axis, kind=kind, order=order)\n"
     ]
    },
    {
     "name": "stdout",
     "output_type": "stream",
     "text": [
      "Loading  /Users/yoachim/rubin_sim_data/maf/SNe_data/LC_0.0_0.0_380.0_800.0_ebvofMW_0.0_vstack.hdf5 r 50337 799 63\n",
      "Loading  /Users/yoachim/rubin_sim_data/maf/SNe_data/LC_0.0_0.0_380.0_800.0_ebvofMW_0.0_vstack.hdf5 y 78302 799 98\n",
      "Loading  /Users/yoachim/rubin_sim_data/maf/SNe_data/LC_0.0_0.0_380.0_800.0_ebvofMW_0.0_vstack.hdf5 z 88689 799 111\n",
      "Loading  /Users/yoachim/rubin_sim_data/maf/SNe_data/LC_-2.0_0.2_380.0_800.0_ebvofMW_0.0_vstack.hdf5 g 20774 799 26\n"
     ]
    },
    {
     "name": "stderr",
     "output_type": "stream",
     "text": [
      "/Users/yoachim/anaconda3/envs/rubin/lib/python3.11/site-packages/numpy/core/fromnumeric.py:771: UserWarning: Warning: 'partition' will ignore the 'mask' of the MaskedArray.\n",
      "  a.partition(kth, axis=axis, kind=kind, order=order)\n"
     ]
    },
    {
     "name": "stdout",
     "output_type": "stream",
     "text": [
      "Loading  /Users/yoachim/rubin_sim_data/maf/SNe_data/LC_-2.0_0.2_380.0_800.0_ebvofMW_0.0_vstack.hdf5 i 78302 799 98\n",
      "Loading  /Users/yoachim/rubin_sim_data/maf/SNe_data/LC_-2.0_0.2_380.0_800.0_ebvofMW_0.0_vstack.hdf5 r 50337 799 63\n",
      "Loading  /Users/yoachim/rubin_sim_data/maf/SNe_data/LC_-2.0_0.2_380.0_800.0_ebvofMW_0.0_vstack.hdf5 y 63121 799 79\n",
      "Loading  /Users/yoachim/rubin_sim_data/maf/SNe_data/LC_-2.0_0.2_380.0_800.0_ebvofMW_0.0_vstack.hdf5 z 73508 799 92\n",
      "Loading  /Users/yoachim/rubin_sim_data/maf/SNe_data/LC_0.0_0.0_380.0_800.0_ebvofMW_0.0_vstack.hdf5 g 20774 799 26\n"
     ]
    },
    {
     "name": "stderr",
     "output_type": "stream",
     "text": [
      "/Users/yoachim/anaconda3/envs/rubin/lib/python3.11/site-packages/numpy/core/fromnumeric.py:771: UserWarning: Warning: 'partition' will ignore the 'mask' of the MaskedArray.\n",
      "  a.partition(kth, axis=axis, kind=kind, order=order)\n"
     ]
    },
    {
     "name": "stdout",
     "output_type": "stream",
     "text": [
      "Loading  /Users/yoachim/rubin_sim_data/maf/SNe_data/LC_0.0_0.0_380.0_800.0_ebvofMW_0.0_vstack.hdf5 i 78302 799 98\n",
      "Loading  /Users/yoachim/rubin_sim_data/maf/SNe_data/LC_0.0_0.0_380.0_800.0_ebvofMW_0.0_vstack.hdf5 r 50337 799 63\n",
      "Loading  /Users/yoachim/rubin_sim_data/maf/SNe_data/LC_0.0_0.0_380.0_800.0_ebvofMW_0.0_vstack.hdf5 y 78302 799 98\n",
      "Loading  /Users/yoachim/rubin_sim_data/maf/SNe_data/LC_0.0_0.0_380.0_800.0_ebvofMW_0.0_vstack.hdf5 z 88689 799 111\n"
     ]
    }
   ],
   "source": [
    "bundle_list = []\n",
    "\n",
    "ddf = 'XMM_LSS'\n",
    "plotDict = {\n",
    "            \"visufunc\": hp.gnomview,\n",
    "            \"rot\": (np.mean(ddfs[ddf][\"ra\"]), np.mean(ddfs[ddf][\"dec\"]), 0),\n",
    "            \"xsize\": 500,\n",
    "        }\n",
    "plotFuncs = [maf.HealpixSkyMap()]\n",
    "metric = maf.metrics.SNNSNMetric(\n",
    "    verbose=False,\n",
    "    n_bef=4,\n",
    "    n_aft=10,\n",
    "    zmin=0.1,\n",
    "    zmax=1.1,\n",
    "    z_step=0.03,\n",
    "    daymax_step=3,\n",
    "    coadd_night=True,\n",
    "    gamma_name=\"gamma_DDF.hdf5\",\n",
    "    # have to add field name here, to avoid reduceDict key collissions\n",
    "    metric_name=\"DDF_hdf\",\n",
    ")\n",
    "bundle_list.append(\n",
    "    maf.MetricBundle(\n",
    "        metric,\n",
    "        ddf_slicers_sne[ddf],\n",
    "        constraint=\"\",\n",
    "        #info_label=\" \".join([fieldname, \"all bands\"]),\n",
    "        plot_dict=plotDict,\n",
    "        plot_funcs=plotFuncs,\n",
    "        #summary_metrics=summary_stats,\n",
    "        #display_dict=displayDict,\n",
    "    )\n",
    ")\n",
    "\n",
    "metric = maf.metrics.SNNSNMetric(\n",
    "    verbose=False,\n",
    "    n_bef=4,\n",
    "    n_aft=10,\n",
    "    zmin=0.1,\n",
    "    zmax=1.1,\n",
    "    z_step=0.03,\n",
    "    daymax_step=3,\n",
    "    coadd_night=True,\n",
    "    #gamma_name=\"gamma_DDF.hdf5\",\n",
    "    # have to add field name here, to avoid reduceDict key collissions\n",
    "    metric_name=\"WFD_hdf\",\n",
    ")\n",
    "bundle_list.append(\n",
    "    maf.MetricBundle(\n",
    "        metric,\n",
    "        ddf_slicers_sne[ddf],\n",
    "        constraint=\"\",\n",
    "        #info_label=\" \".join([fieldname, \"all bands\"]),\n",
    "        plot_dict=plotDict,\n",
    "        plot_funcs=plotFuncs,\n",
    "        #summary_metrics=summary_stats,\n",
    "        #display_dict=displayDict,\n",
    "    )\n",
    ")\n",
    "\n"
   ]
  },
  {
   "cell_type": "code",
   "execution_count": null,
   "id": "69f0e71b-7584-4df4-8224-c9044e4ebf21",
   "metadata": {},
   "outputs": [],
   "source": [
    "bd = maf.metricBundles.make_bundles_dict_from_list(bundle_list)\n",
    "bg = maf.metricBundles.MetricBundleGroup(bd, \"early_draft_notoo_v3.5_10yrs.db\", out_dir=out_dir, results_db=results_db)\n",
    "#bg = maf.metricBundles.MetricBundleGroup(bd, \"/Users/yoachim/runs34/baseline/baseline_v3.4_10yrs.db\", out_dir=out_dir, results_db=results_db)\n",
    "\n",
    "bg.run_all()\n",
    "bg.plot_all(closefigs=False)"
   ]
  },
  {
   "cell_type": "code",
   "execution_count": null,
   "id": "6efadd37-90c6-4b40-a3a4-4ce4e4efb850",
   "metadata": {},
   "outputs": [],
   "source": [
    "bundle_list[0].metric_values"
   ]
  },
  {
   "cell_type": "code",
   "execution_count": null,
   "id": "d7cea590-32d4-4aeb-bd93-6830ffd07c68",
   "metadata": {},
   "outputs": [],
   "source": []
  },
  {
   "cell_type": "code",
   "execution_count": null,
   "id": "eeb5512a-c975-41d7-8ce0-f6ad1081ded4",
   "metadata": {},
   "outputs": [],
   "source": []
  },
  {
   "cell_type": "code",
   "execution_count": null,
   "id": "8745e284-886d-4305-955c-03b15cc4d4ff",
   "metadata": {},
   "outputs": [],
   "source": []
  }
 ],
 "metadata": {
  "kernelspec": {
   "display_name": "Python 3 (ipykernel)",
   "language": "python",
   "name": "python3"
  },
  "language_info": {
   "codemirror_mode": {
    "name": "ipython",
    "version": 3
   },
   "file_extension": ".py",
   "mimetype": "text/x-python",
   "name": "python",
   "nbconvert_exporter": "python",
   "pygments_lexer": "ipython3",
   "version": "3.11.8"
  }
 },
 "nbformat": 4,
 "nbformat_minor": 5
}
