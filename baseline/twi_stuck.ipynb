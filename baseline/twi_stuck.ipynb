{
 "cells": [
  {
   "cell_type": "code",
   "execution_count": 1,
   "id": "a36cc0d4-7451-472d-865a-e79ff472375e",
   "metadata": {},
   "outputs": [],
   "source": [
    "import sqlite3\n",
    "import pandas as pd\n",
    "import numpy as np\n",
    "import matplotlib.pylab as plt\n",
    "%matplotlib inline"
   ]
  },
  {
   "cell_type": "code",
   "execution_count": 2,
   "id": "4fd86ae0-eaec-4f30-ad87-39323174fd25",
   "metadata": {},
   "outputs": [],
   "source": [
    "con = sqlite3.connect('baseline_v3.5_10yrs.db')\n",
    "df = pd.read_sql('select fieldRA, fieldDec,night,scheduler_note from observations where scheduler_note like\"%twi%\"', con)\n",
    "con.close()"
   ]
  },
  {
   "cell_type": "code",
   "execution_count": 3,
   "id": "b030de6e-6683-486c-b2a1-98bd5e65c3c0",
   "metadata": {},
   "outputs": [
    {
     "data": {
      "text/html": [
       "<div>\n",
       "<style scoped>\n",
       "    .dataframe tbody tr th:only-of-type {\n",
       "        vertical-align: middle;\n",
       "    }\n",
       "\n",
       "    .dataframe tbody tr th {\n",
       "        vertical-align: top;\n",
       "    }\n",
       "\n",
       "    .dataframe thead th {\n",
       "        text-align: right;\n",
       "    }\n",
       "</style>\n",
       "<table border=\"1\" class=\"dataframe\">\n",
       "  <thead>\n",
       "    <tr style=\"text-align: right;\">\n",
       "      <th></th>\n",
       "      <th>fieldRA</th>\n",
       "      <th>fieldDec</th>\n",
       "      <th>night</th>\n",
       "      <th>scheduler_note</th>\n",
       "    </tr>\n",
       "  </thead>\n",
       "  <tbody>\n",
       "    <tr>\n",
       "      <th>0</th>\n",
       "      <td>2.949968</td>\n",
       "      <td>-12.793076</td>\n",
       "      <td>0</td>\n",
       "      <td>twilight_near_sun, 0</td>\n",
       "    </tr>\n",
       "    <tr>\n",
       "      <th>1</th>\n",
       "      <td>3.228917</td>\n",
       "      <td>-9.988354</td>\n",
       "      <td>0</td>\n",
       "      <td>twilight_near_sun, 0</td>\n",
       "    </tr>\n",
       "    <tr>\n",
       "      <th>2</th>\n",
       "      <td>0.564476</td>\n",
       "      <td>-8.306844</td>\n",
       "      <td>0</td>\n",
       "      <td>twilight_near_sun, 0</td>\n",
       "    </tr>\n",
       "    <tr>\n",
       "      <th>3</th>\n",
       "      <td>0.851999</td>\n",
       "      <td>-5.503439</td>\n",
       "      <td>0</td>\n",
       "      <td>twilight_near_sun, 0</td>\n",
       "    </tr>\n",
       "    <tr>\n",
       "      <th>4</th>\n",
       "      <td>358.217893</td>\n",
       "      <td>-3.798255</td>\n",
       "      <td>0</td>\n",
       "      <td>twilight_near_sun, 0</td>\n",
       "    </tr>\n",
       "    <tr>\n",
       "      <th>...</th>\n",
       "      <td>...</td>\n",
       "      <td>...</td>\n",
       "      <td>...</td>\n",
       "      <td>...</td>\n",
       "    </tr>\n",
       "    <tr>\n",
       "      <th>62016</th>\n",
       "      <td>359.523283</td>\n",
       "      <td>-1.488937</td>\n",
       "      <td>3652</td>\n",
       "      <td>twilight_near_sun, 3</td>\n",
       "    </tr>\n",
       "    <tr>\n",
       "      <th>62017</th>\n",
       "      <td>2.128348</td>\n",
       "      <td>-5.792461</td>\n",
       "      <td>3652</td>\n",
       "      <td>twilight_near_sun, 3</td>\n",
       "    </tr>\n",
       "    <tr>\n",
       "      <th>62018</th>\n",
       "      <td>4.829679</td>\n",
       "      <td>-10.165899</td>\n",
       "      <td>3652</td>\n",
       "      <td>twilight_near_sun, 3</td>\n",
       "    </tr>\n",
       "    <tr>\n",
       "      <th>62019</th>\n",
       "      <td>5.006029</td>\n",
       "      <td>-13.269223</td>\n",
       "      <td>3652</td>\n",
       "      <td>twilight_near_sun, 3</td>\n",
       "    </tr>\n",
       "    <tr>\n",
       "      <th>62020</th>\n",
       "      <td>7.709226</td>\n",
       "      <td>-14.610126</td>\n",
       "      <td>3652</td>\n",
       "      <td>twilight_near_sun, 3</td>\n",
       "    </tr>\n",
       "  </tbody>\n",
       "</table>\n",
       "<p>62021 rows × 4 columns</p>\n",
       "</div>"
      ],
      "text/plain": [
       "          fieldRA   fieldDec  night        scheduler_note\n",
       "0        2.949968 -12.793076      0  twilight_near_sun, 0\n",
       "1        3.228917  -9.988354      0  twilight_near_sun, 0\n",
       "2        0.564476  -8.306844      0  twilight_near_sun, 0\n",
       "3        0.851999  -5.503439      0  twilight_near_sun, 0\n",
       "4      358.217893  -3.798255      0  twilight_near_sun, 0\n",
       "...           ...        ...    ...                   ...\n",
       "62016  359.523283  -1.488937   3652  twilight_near_sun, 3\n",
       "62017    2.128348  -5.792461   3652  twilight_near_sun, 3\n",
       "62018    4.829679 -10.165899   3652  twilight_near_sun, 3\n",
       "62019    5.006029 -13.269223   3652  twilight_near_sun, 3\n",
       "62020    7.709226 -14.610126   3652  twilight_near_sun, 3\n",
       "\n",
       "[62021 rows x 4 columns]"
      ]
     },
     "execution_count": 3,
     "metadata": {},
     "output_type": "execute_result"
    }
   ],
   "source": [
    "df"
   ]
  },
  {
   "cell_type": "code",
   "execution_count": 21,
   "id": "5aaa6a28-63b3-492e-a2ac-a2f8860ba0f4",
   "metadata": {},
   "outputs": [
    {
     "data": {
      "text/plain": [
       "683"
      ]
     },
     "execution_count": 21,
     "metadata": {},
     "output_type": "execute_result"
    }
   ],
   "source": [
    "np.unique(df['night']).size"
   ]
  },
  {
   "cell_type": "code",
   "execution_count": 18,
   "id": "e5b7bb93-0144-4eed-a669-6c5f2c02e0bc",
   "metadata": {},
   "outputs": [
    {
     "data": {
      "text/plain": [
       "[<matplotlib.lines.Line2D at 0x148b5e4d0>]"
      ]
     },
     "execution_count": 18,
     "metadata": {},
     "output_type": "execute_result"
    },
    {
     "data": {
      "image/png": "[encoded data removed]",
      "text/plain": [
       "<Figure size 640x480 with 1 Axes>"
      ]
     },
     "metadata": {},
     "output_type": "display_data"
    }
   ],
   "source": [
    "night = 1116\n",
    "in_night = np.where(df['night'] == night)\n",
    "plt.plot(df[\"fieldRA\"].values[in_night], df[\"fieldDec\"].values[in_night], 'ko', alpha=0.1)"
   ]
  },
  {
   "cell_type": "code",
   "execution_count": 19,
   "id": "b1c43ac3-891f-47f6-ae54-f81dc86c6574",
   "metadata": {},
   "outputs": [
    {
     "data": {
      "text/plain": [
       "array(['twilight_near_sun, 0', 'twilight_near_sun, 1',\n",
       "       'twilight_near_sun, 2', 'twilight_near_sun, 3',\n",
       "       'twilight_near_sun, 0', 'twilight_near_sun, 1',\n",
       "       'twilight_near_sun, 2', 'twilight_near_sun, 3',\n",
       "       'twilight_near_sun, 0', 'twilight_near_sun, 0',\n",
       "       'twilight_near_sun, 1', 'twilight_near_sun, 1',\n",
       "       'twilight_near_sun, 2', 'twilight_near_sun, 2',\n",
       "       'twilight_near_sun, 3', 'twilight_near_sun, 3',\n",
       "       'twilight_near_sun, 0', 'twilight_near_sun, 0',\n",
       "       'twilight_near_sun, 1', 'twilight_near_sun, 1',\n",
       "       'twilight_near_sun, 2', 'twilight_near_sun, 2',\n",
       "       'twilight_near_sun, 3', 'twilight_near_sun, 3'], dtype=object)"
      ]
     },
     "execution_count": 19,
     "metadata": {},
     "output_type": "execute_result"
    }
   ],
   "source": [
    "df[\"scheduler_note\"].values[in_night]"
   ]
  },
  {
   "cell_type": "code",
   "execution_count": 20,
   "id": "b3317094-4fc2-4e8c-be58-17c9130e0337",
   "metadata": {},
   "outputs": [
    {
     "data": {
      "text/plain": [
       "array([30.20521429, 30.20521429, 30.20521429, 30.20521429, 30.20521429,\n",
       "       30.20521429, 30.20521429, 30.20521429, 30.20521429, 32.84706775,\n",
       "       30.20521429, 32.84706775, 30.20521429, 32.84706775, 30.20521429,\n",
       "       32.84706775, 32.84706775, 30.20521429, 32.84706775, 30.20521429,\n",
       "       32.84706775, 30.20521429, 32.84706775, 30.20521429])"
      ]
     },
     "execution_count": 20,
     "metadata": {},
     "output_type": "execute_result"
    }
   ],
   "source": [
    "df[\"fieldRA\"].values[in_night]"
   ]
  },
  {
   "cell_type": "code",
   "execution_count": 10,
   "id": "332aafdd-a6ad-4bc2-8b3c-24ec2e2b08d3",
   "metadata": {},
   "outputs": [
    {
     "name": "stdout",
     "output_type": "stream",
     "text": [
      "612\n",
      "700\n",
      "1116\n",
      "1852\n",
      "1860\n",
      "1884\n",
      "1972\n",
      "3100\n",
      "3336\n"
     ]
    }
   ],
   "source": [
    "for night in np.unique(df['night']):\n",
    "    in_night = np.where(df['night'] == night)[0]\n",
    "    if np.unique(df[\"fieldRA\"].values[in_night]).size < 10:\n",
    "        print(night)"
   ]
  },
  {
   "cell_type": "code",
   "execution_count": null,
   "id": "0f7781b3-d82a-4c56-a13e-316f01823084",
   "metadata": {},
   "outputs": [],
   "source": []
  }
 ],
 "metadata": {
  "kernelspec": {
   "display_name": "Python 3 (ipykernel)",
   "language": "python",
   "name": "python3"
  },
  "language_info": {
   "codemirror_mode": {
    "name": "ipython",
    "version": 3
   },
   "file_extension": ".py",
   "mimetype": "text/x-python",
   "name": "python",
   "nbconvert_exporter": "python",
   "pygments_lexer": "ipython3",
   "version": "3.11.8"
  }
 },
 "nbformat": 4,
 "nbformat_minor": 5
}
